{
  "nbformat": 4,
  "nbformat_minor": 0,
  "metadata": {
    "colab": {
      "name": "Cipher_NLP_Udemy.ipynb",
      "provenance": [],
      "collapsed_sections": [],
      "authorship_tag": "ABX9TyPdndHB2NdPH3o1kSBeirK3",
      "include_colab_link": true
    },
    "kernelspec": {
      "name": "python3",
      "display_name": "Python 3"
    }
  },
  "cells": [
    {
      "cell_type": "markdown",
      "metadata": {
        "id": "view-in-github",
        "colab_type": "text"
      },
      "source": [
        "<a href=\"https://colab.research.google.com/github/Chinmay-47/NLP_Udemy/blob/master/Cipher_NLP_Udemy.ipynb\" target=\"_parent\"><img src=\"https://colab.research.google.com/assets/colab-badge.svg\" alt=\"Open In Colab\"/></a>"
      ]
    },
    {
      "cell_type": "code",
      "metadata": {
        "id": "oscJrzS5HMrr",
        "colab_type": "code",
        "colab": {}
      },
      "source": [
        "import random\n",
        "import numpy as np\n",
        "import string\n",
        "import requests\n",
        "import re\n",
        "import os\n",
        "import textwrap\n",
        "import matplotlib.pyplot as plt"
      ],
      "execution_count": 159,
      "outputs": []
    },
    {
      "cell_type": "code",
      "metadata": {
        "id": "EV2WqNXxHcO4",
        "colab_type": "code",
        "colab": {}
      },
      "source": [
        "#substitution cipher\n",
        "\n",
        "#one is the key and one will be the value\n",
        "letters1 = list(string.ascii_lowercase)\n",
        "letters2 = list(string.ascii_lowercase)\n",
        "\n",
        "#random mapping\n",
        "mapping = {}\n",
        "\n",
        "random.shuffle(letters2)\n",
        "\n",
        "#populating the mapping\n",
        "for k, v in zip(letters1, letters2):\n",
        "    mapping[k]=v\n",
        "\n",
        "# print(mapping)"
      ],
      "execution_count": 160,
      "outputs": []
    },
    {
      "cell_type": "code",
      "metadata": {
        "id": "zR9-E9rjNhst",
        "colab_type": "code",
        "colab": {}
      },
      "source": [
        "#Language Model\n",
        "\n",
        "#Transition matrix - Markov Model\n",
        "\n",
        "M = np.ones((26,26))\n",
        "\n",
        "#Initial state probabilities\n",
        "\n",
        "pi = np.zeros(26)\n",
        "\n",
        "def update_transition(char1,char2):\n",
        "    i = ord(char1) - 97\n",
        "    j = ord(char2) - 97\n",
        "    M[i,j] +=1\n",
        "\n",
        "def update_pi(char):\n",
        "    i = ord(char)-97\n",
        "    pi[i]+=1\n",
        "\n",
        "def get_word_prob(word):\n",
        "    i = ord(word[0]) - 97\n",
        "    logp = np.log(pi[i])\n",
        "\n",
        "    for char in word[1:]:\n",
        "        j = ord(char) - 97\n",
        "        logp += np.log(M[i,j])\n",
        "        i = j\n",
        "    \n",
        "    return logp\n",
        "\n",
        "\n",
        "def get_sequence_prob(words):\n",
        "\n",
        "    if type(words) == str:\n",
        "        words = words.split()\n",
        "    \n",
        "    logp = 0\n",
        "\n",
        "    for word in words:\n",
        "        logp += get_word_prob(word)\n",
        "    return logp"
      ],
      "execution_count": 161,
      "outputs": []
    },
    {
      "cell_type": "code",
      "metadata": {
        "id": "kt5a2xL4NhxE",
        "colab_type": "code",
        "colab": {}
      },
      "source": [
        "#Data\n",
        "\n",
        "url = 'https://lazyprogrammer.me/course_files/moby_dick.txt'\n",
        "\n",
        "data = requests.get(url)\n",
        "\n",
        "with open('moby_dick.txt','w') as f:\n",
        "    f.write(data.content.decode())\n",
        "\n",
        "regex = re.compile('[^a-zA-Z]')\n",
        "\n",
        "for line in open('moby_dick.txt'):\n",
        "    line = line.rstrip()\n",
        "\n",
        "    if line:\n",
        "        line = regex.sub('', line)\n",
        "\n",
        "        tokens = line.lower().split()\n",
        "\n",
        "        for token in tokens:\n",
        "\n",
        "            char0 = token[0]\n",
        "            update_pi(char0)\n",
        "\n",
        "            for char1 in token[1:]:\n",
        "                update_transition(char0,char1)\n",
        "                char0 = char1\n",
        "        \n",
        "pi /=pi.sum()\n",
        "M /=M.sum(axis=1, keepdims=True)"
      ],
      "execution_count": 162,
      "outputs": []
    },
    {
      "cell_type": "code",
      "metadata": {
        "id": "KWowOMPtlfJK",
        "colab_type": "code",
        "colab": {}
      },
      "source": [
        "#Message to be encrypted\n",
        "\n",
        "original_message = '''I then lounged down the street and found,\n",
        "as I expected, that there was a mews in a lane which runs down\n",
        "by one wall of the garden. I lent the ostlers a hand in rubbing\n",
        "down their horses, and received in exchange twopence, a glass of\n",
        "half-and-half, two fills of shag tobacco, and as much information\n",
        "as I could desire about Miss Adler, to say nothing of half a dozen\n",
        "other people in the neighbourhood in whom I was not in the least\n",
        "interested, but whose biographies I was compelled to listen to.\n",
        "'''"
      ],
      "execution_count": 163,
      "outputs": []
    },
    {
      "cell_type": "code",
      "metadata": {
        "id": "ymVrQRz-n8CH",
        "colab_type": "code",
        "colab": {}
      },
      "source": [
        "#encoding and decoding\n",
        "\n",
        "def encode_message(message):\n",
        "    message = message.lower()\n",
        "\n",
        "    message = regex.sub('',message)\n",
        "\n",
        "    coded_message = []\n",
        "    for char in message:\n",
        "        coded_char = char\n",
        "        if char in mapping:\n",
        "            coded_char = mapping[char]\n",
        "        coded_message.append(coded_char)\n",
        "    \n",
        "    return ''.join(coded_message)\n",
        "\n",
        "encoded_message = encode_message(original_message)\n",
        "\n",
        "def decode_message(message, word_map):\n",
        "\n",
        "    decoded_message = []\n",
        "    for char in message:\n",
        "        decoded_char = char\n",
        "        if char in word_map:\n",
        "            decoded_char = word_map[char]\n",
        "        decoded_message.append(decoded_char)\n",
        "    \n",
        "    return ''.join(decoded_message)"
      ],
      "execution_count": 164,
      "outputs": []
    },
    {
      "cell_type": "code",
      "metadata": {
        "id": "6i7_6lFjoMxE",
        "colab_type": "code",
        "colab": {}
      },
      "source": [
        "# Evolutionary/Genetic Algorithm\n",
        "\n",
        "dna_pool = []\n",
        "\n",
        "for _ in range(20):\n",
        "    dna = list(string.ascii_lowercase)\n",
        "    random.shuffle(dna)\n",
        "    dna_pool.append(dna)"
      ],
      "execution_count": 165,
      "outputs": []
    },
    {
      "cell_type": "code",
      "metadata": {
        "id": "2Rx0KUAVr8Yx",
        "colab_type": "code",
        "colab": {}
      },
      "source": [
        "def evolve_offsprings(dna_pool, n_offsprings):\n",
        "\n",
        "    offsprings = []\n",
        "\n",
        "    for dna in dna_pool:\n",
        "        for _ in range(n_offsprings):\n",
        "            copy = dna.copy()\n",
        "            j = np.random.randint(len(copy))\n",
        "            k = np.random.randint(len(copy))\n",
        "\n",
        "            #swap\n",
        "\n",
        "            temp = copy[j]\n",
        "            copy[j] = copy[k]\n",
        "            copy[k] = temp\n",
        "            offsprings.append(copy)\n",
        "\n",
        "    return offsprings + dna_pool"
      ],
      "execution_count": 166,
      "outputs": []
    },
    {
      "cell_type": "code",
      "metadata": {
        "id": "G1ckGoLe3SI2",
        "colab_type": "code",
        "colab": {
          "base_uri": "https://localhost:8080/",
          "height": 119
        },
        "outputId": "3f8fc6cb-621b-4870-a55f-6657d14ca368"
      },
      "source": [
        "#Training\n",
        "\n",
        "iterations = 1000\n",
        "scores = np.zeros(iterations)\n",
        "best_dna = None\n",
        "best_map = None\n",
        "best_score = float('-inf')\n",
        "\n",
        "for i in range(iterations):\n",
        "\n",
        "    if i > 0:\n",
        "        dna_pool = evolve_offsprings(dna_pool, 3)\n",
        "\n",
        "    dna2score = {}\n",
        "    for dna in dna_pool:\n",
        "        current_map = {}\n",
        "        for k,v in zip(letters1, dna):\n",
        "            current_map[k] = v\n",
        "\n",
        "        decoded_message = decode_message(encoded_message,current_map)\n",
        "        score = get_sequence_prob(decoded_message)\n",
        "        dna2score[''.join(dna)] = score\n",
        "\n",
        "        if score > best_score:\n",
        "            best_dna = dna\n",
        "            best_map = current_map\n",
        "            best_score = score\n",
        "\n",
        "    scores[i] = np.mean(list(dna2score.values()))\n",
        "\n",
        "\n",
        "    sorted_dna = sorted(dna2score.items(), key=lambda x: x[1], reverse=True)\n",
        "\n",
        "    dna_pool = [list(k) for k,v in sorted_dna[:5]]\n",
        "\n",
        "    if i % 200 == 0:\n",
        "        print(\"iter:\", i, \"score:\", scores[i], \"best so far:\", best_score)"
      ],
      "execution_count": 167,
      "outputs": [
        {
          "output_type": "stream",
          "text": [
            "iter: 0 score: -1873.6514541035099 best so far: -1591.9696106608415\n"
          ],
          "name": "stdout"
        },
        {
          "output_type": "stream",
          "text": [
            "/usr/local/lib/python3.6/dist-packages/ipykernel_launcher.py:22: RuntimeWarning: divide by zero encountered in log\n"
          ],
          "name": "stderr"
        },
        {
          "output_type": "stream",
          "text": [
            "iter: 200 score: -1024.4411732224041 best so far: -968.8711213467294\n",
            "iter: 400 score: -1018.7935584282767 best so far: -968.8711213467294\n",
            "iter: 600 score: -1013.6434613249792 best so far: -968.8711213467294\n",
            "iter: 800 score: -1041.6609352331634 best so far: -968.8711213467294\n"
          ],
          "name": "stdout"
        }
      ]
    },
    {
      "cell_type": "code",
      "metadata": {
        "id": "5OpAIGlJ56-M",
        "colab_type": "code",
        "colab": {
          "base_uri": "https://localhost:8080/",
          "height": 102
        },
        "outputId": "db76bdae-f5a3-4372-a7ad-a02adb989ad6"
      },
      "source": [
        "#Using best maps and score\n",
        "\n",
        "decoded_message = decode_message(encoded_message, best_map)\n",
        "\n",
        "print(\"LL of decoded message:\", get_sequence_prob(decoded_message))\n",
        "print(\"LL of true message:\", get_sequence_prob(regex.sub('', original_message.lower())))\n",
        "\n",
        "# which letters are wrong?\n",
        "for true, v in mapping.items():\n",
        "  pred = best_map[v]\n",
        "  if true != pred:\n",
        "    print(\"true: %s, pred: %s\" % (true, pred))"
      ],
      "execution_count": 168,
      "outputs": [
        {
          "output_type": "stream",
          "text": [
            "LL of decoded message: -968.8711213467294\n",
            "LL of true message: -972.044274749855\n",
            "true: k, pred: q\n",
            "true: q, pred: z\n",
            "true: z, pred: k\n"
          ],
          "name": "stdout"
        }
      ]
    },
    {
      "cell_type": "code",
      "metadata": {
        "id": "4zCAKFPc6rD0",
        "colab_type": "code",
        "colab": {
          "base_uri": "https://localhost:8080/",
          "height": 323
        },
        "outputId": "e9a87367-160d-4c26-c178-952f3284e08a"
      },
      "source": [
        "# print the final decoded message\n",
        "print(\"Decoded message:\\n\", textwrap.fill(decoded_message))\n",
        "\n",
        "print(\"\\nTrue message:\\n\", original_message)"
      ],
      "execution_count": 169,
      "outputs": [
        {
          "output_type": "stream",
          "text": [
            "Decoded message:\n",
            " ithenloungeddownthestreetandfoundasiexpectedthattherewasamewsinalanewh\n",
            "ichrunsdownbyonewallofthegardenilenttheostlersahandinrubbingdowntheirh\n",
            "orsesandreceivedinexchangetwopenceaglassofhalfandhalftwofillsofshagtob\n",
            "accoandasmuchinformationasicoulddesireaboutmissadlertosaynothingofhalf\n",
            "adokenotherpeopleintheneighbourhoodinwhomiwasnotintheleastinterestedbu\n",
            "twhosebiographiesiwascompelledtolistento\n",
            "\n",
            "True message:\n",
            " I then lounged down the street and found,\n",
            "as I expected, that there was a mews in a lane which runs down\n",
            "by one wall of the garden. I lent the ostlers a hand in rubbing\n",
            "down their horses, and received in exchange twopence, a glass of\n",
            "half-and-half, two fills of shag tobacco, and as much information\n",
            "as I could desire about Miss Adler, to say nothing of half a dozen\n",
            "other people in the neighbourhood in whom I was not in the least\n",
            "interested, but whose biographies I was compelled to listen to.\n",
            "\n"
          ],
          "name": "stdout"
        }
      ]
    },
    {
      "cell_type": "code",
      "metadata": {
        "id": "PgQ1wMaI7i8V",
        "colab_type": "code",
        "colab": {
          "base_uri": "https://localhost:8080/",
          "height": 265
        },
        "outputId": "cdc25249-83b9-40a9-a274-28ecbf8acf06"
      },
      "source": [
        "plt.plot(scores)\n",
        "plt.show()"
      ],
      "execution_count": 170,
      "outputs": [
        {
          "output_type": "display_data",
          "data": {
            "image/png": "[encoded data removed]",
            "text/plain": [
              "<Figure size 432x288 with 1 Axes>"
            ]
          },
          "metadata": {
            "tags": [],
            "needs_background": "light"
          }
        }
      ]
    },
    {
      "cell_type": "code",
      "metadata": {
        "id": "3Cva0bYH7kCY",
        "colab_type": "code",
        "colab": {}
      },
      "source": [
        ""
      ],
      "execution_count": 170,
      "outputs": []
    }
  ]
}