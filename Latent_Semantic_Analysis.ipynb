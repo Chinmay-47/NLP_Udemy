{
  "nbformat": 4,
  "nbformat_minor": 0,
  "metadata": {
    "colab": {
      "name": "Latent_Semantic_Analysis.ipynb",
      "provenance": [],
      "authorship_tag": "ABX9TyNQLyHVZDctj3BhFJHnTdn4",
      "include_colab_link": true
    },
    "kernelspec": {
      "name": "python3",
      "display_name": "Python 3"
    }
  },
  "cells": [
    {
      "cell_type": "markdown",
      "metadata": {
        "id": "view-in-github",
        "colab_type": "text"
      },
      "source": [
        "<a href=\"https://colab.research.google.com/github/Chinmay-47/NLP_Udemy/blob/master/Latent_Semantic_Analysis.ipynb\" target=\"_parent\"><img src=\"https://colab.research.google.com/assets/colab-badge.svg\" alt=\"Open In Colab\"/></a>"
      ]
    },
    {
      "cell_type": "code",
      "metadata": {
        "id": "rnqTV8VE9zNJ",
        "colab_type": "code",
        "colab": {
          "base_uri": "https://localhost:8080/",
          "height": 102
        },
        "outputId": "8389656f-4d2e-4cd9-9bf9-3ee030b26b2d"
      },
      "source": [
        "import nltk\n",
        "import numpy as np\n",
        "import matplotlib.pyplot as plt\n",
        "\n",
        "from nltk.stem import WordNetLemmatizer\n",
        "from sklearn.decomposition import TruncatedSVD\n",
        "\n",
        "nltk.download('punkt')\n",
        "nltk.download('wordnet')"
      ],
      "execution_count": 17,
      "outputs": [
        {
          "output_type": "stream",
          "text": [
            "[nltk_data] Downloading package punkt to /root/nltk_data...\n",
            "[nltk_data]   Package punkt is already up-to-date!\n",
            "[nltk_data] Downloading package wordnet to /root/nltk_data...\n",
            "[nltk_data]   Package wordnet is already up-to-date!\n"
          ],
          "name": "stdout"
        },
        {
          "output_type": "execute_result",
          "data": {
            "text/plain": [
              "True"
            ]
          },
          "metadata": {
            "tags": []
          },
          "execution_count": 17
        }
      ]
    },
    {
      "cell_type": "code",
      "metadata": {
        "id": "j2mK1w9L-ulx",
        "colab_type": "code",
        "colab": {}
      },
      "source": [
        "wordnet_lemmatizer = WordNetLemmatizer()"
      ],
      "execution_count": 18,
      "outputs": []
    },
    {
      "cell_type": "code",
      "metadata": {
        "id": "E0R8cNXj-znd",
        "colab_type": "code",
        "colab": {}
      },
      "source": [
        "titles =[line.rstrip() for line in open('all_book_titles.txt')]"
      ],
      "execution_count": 19,
      "outputs": []
    },
    {
      "cell_type": "code",
      "metadata": {
        "id": "bo8pqye3_CHd",
        "colab_type": "code",
        "colab": {}
      },
      "source": [
        "stopwords = set(w.rstrip() for w in open('stopwords.txt'))\n",
        "stopwords = stopwords.union({\n",
        "    'introduction', 'edition', 'series', 'application',\n",
        "    'approach', 'card', 'access', 'package', 'plus', 'etext',\n",
        "    'brief', 'vol', 'fundamental', 'guide', 'essential', 'printed',\n",
        "    'third', 'second', 'fourth', })"
      ],
      "execution_count": 20,
      "outputs": []
    },
    {
      "cell_type": "code",
      "metadata": {
        "id": "6C9esNmt_Z8c",
        "colab_type": "code",
        "colab": {}
      },
      "source": [
        "def tokenizer(a):\n",
        "    a = a.lower()\n",
        "    tokens = nltk.tokenize.word_tokenize(a)\n",
        "    tokens = [token for token in tokens if len(token)>2]\n",
        "    tokens = [wordnet_lemmatizer.lemmatize(token) for token in tokens]\n",
        "    tokens = [token for token in tokens if token not in stopwords]\n",
        "    tokens = [token for token in tokens if not any(char.isdigit() for char in token)]\n",
        "\n",
        "    return tokens"
      ],
      "execution_count": 21,
      "outputs": []
    },
    {
      "cell_type": "code",
      "metadata": {
        "id": "6YvZkLkT_Z_u",
        "colab_type": "code",
        "colab": {}
      },
      "source": [
        "unique_words = {}\n",
        "index = 0\n",
        "all_tokens = []\n",
        "all_titles = []\n",
        "index_to_words = []\n",
        "error_count = 0"
      ],
      "execution_count": 22,
      "outputs": []
    },
    {
      "cell_type": "code",
      "metadata": {
        "id": "DOjHZPy4BX05",
        "colab_type": "code",
        "colab": {}
      },
      "source": [
        "#remove numbers from titles and make word map dictionary\n",
        "for title in titles:\n",
        "    try:\n",
        "        title = title.encode('ascii','ignore').decode('utf-8')\n",
        "        all_titles.append(title)\n",
        "        tokens = tokenizer(title)\n",
        "        all_tokens.append(tokens)\n",
        "        for token in tokens:\n",
        "            if token not in unique_words:\n",
        "                unique_words[token] = index\n",
        "                index+=1\n",
        "                index_to_words.append(token)\n",
        "    except Exception as e:\n",
        "        print(e)\n",
        "        print(title)\n",
        "        error_count+=1 "
      ],
      "execution_count": 23,
      "outputs": []
    },
    {
      "cell_type": "code",
      "metadata": {
        "id": "Ow4ZIuvhFdXl",
        "colab_type": "code",
        "colab": {
          "base_uri": "https://localhost:8080/",
          "height": 34
        },
        "outputId": "b300736f-4f08-4637-a57e-2d0cee83e813"
      },
      "source": [
        "print(\"Number of errors parsing file:\", error_count, \"number of lines in file:\", len(titles))\n",
        "if error_count == len(titles):\n",
        "    print(\"There is no data to do anything with! Quitting...\")\n",
        "    exit()"
      ],
      "execution_count": 24,
      "outputs": [
        {
          "output_type": "stream",
          "text": [
            "Number of errors parsing file: 0 number of lines in file: 2373\n"
          ],
          "name": "stdout"
        }
      ]
    },
    {
      "cell_type": "code",
      "metadata": {
        "id": "0X0ux2xyCujV",
        "colab_type": "code",
        "colab": {}
      },
      "source": [
        "def tokens_to_vector(tokens):\n",
        "    x = np.zeros(len(unique_words))\n",
        "    for token in tokens:\n",
        "        i = unique_words[token]\n",
        "        x[i] += 1\n",
        "    return x"
      ],
      "execution_count": 25,
      "outputs": []
    },
    {
      "cell_type": "code",
      "metadata": {
        "id": "df6cMEOjDjOY",
        "colab_type": "code",
        "colab": {}
      },
      "source": [
        "N = len(all_tokens)\n",
        "D = len(unique_words)\n",
        "\n",
        "X = np.zeros((D,N))\n",
        "i=0\n",
        "\n",
        "for tokens in all_tokens:\n",
        "    X[:,i] = tokens_to_vector(tokens)\n",
        "    i +=1"
      ],
      "execution_count": 26,
      "outputs": []
    },
    {
      "cell_type": "code",
      "metadata": {
        "id": "FBbdXwEqEQEt",
        "colab_type": "code",
        "colab": {}
      },
      "source": [
        "svd = TruncatedSVD()\n",
        "\n",
        "Z = svd.fit_transform(X)"
      ],
      "execution_count": 27,
      "outputs": []
    },
    {
      "cell_type": "code",
      "metadata": {
        "id": "RVcB215pHO3w",
        "colab_type": "code",
        "colab": {
          "base_uri": "https://localhost:8080/",
          "height": 265
        },
        "outputId": "926598b0-abaf-461e-b722-88a5ca39ecb5"
      },
      "source": [
        "plt.scatter(Z[:,0],Z[:,1])\n",
        "for i in range(D):\n",
        "    plt.annotate(s = index_to_words[i],xy = (Z[i,0],Z[i,1]))\n",
        "plt.show()"
      ],
      "execution_count": 28,
      "outputs": [
        {
          "output_type": "display_data",
          "data": {
            "image/png": "[encoded data removed]",
            "text/plain": [
              "<Figure size 432x288 with 1 Axes>"
            ]
          },
          "metadata": {
            "tags": [],
            "needs_background": "light"
          }
        }
      ]
    }
  ]
}